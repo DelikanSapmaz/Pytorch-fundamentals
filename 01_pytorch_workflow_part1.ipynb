{
  "nbformat": 4,
  "nbformat_minor": 0,
  "metadata": {
    "colab": {
      "provenance": []
    },
    "kernelspec": {
      "name": "python3",
      "display_name": "Python 3"
    },
    "language_info": {
      "name": "python"
    },
    "accelerator": "TPU"
  },
  "cells": [
    {
      "cell_type": "markdown",
      "source": [
        "# PyTorch Workflow\n",
        "\n",
        "Let's explore a an example PyTorch end-to-end workflow\n",
        "\n"
      ],
      "metadata": {
        "id": "yS94Fvg9WEpW"
      }
    },
    {
      "cell_type": "code",
      "source": [
        "what_were_covering = {1: \"data (prepare and load)\",\n",
        "    2: \"build model\",\n",
        "    3: \"fitting the model to data (training)\",\n",
        "    4: \"making predictions and evaluating a model (inference)\",\n",
        "    5: \"saving and loading a model\",\n",
        "    6: \"putting it all together\"\n",
        "}\n",
        "what_were_covering"
      ],
      "metadata": {
        "colab": {
          "base_uri": "https://localhost:8080/"
        },
        "id": "Fct4JWGBXf1s",
        "outputId": "304f3942-74fb-4aee-8064-4c1b03d2d5aa"
      },
      "execution_count": 1,
      "outputs": [
        {
          "output_type": "execute_result",
          "data": {
            "text/plain": [
              "{1: 'data (prepare and load)',\n",
              " 2: 'build model',\n",
              " 3: 'fitting the model to data (training)',\n",
              " 4: 'making predictions and evaluating a model (inference)',\n",
              " 5: 'saving and loading a model',\n",
              " 6: 'putting it all together'}"
            ]
          },
          "metadata": {},
          "execution_count": 1
        }
      ]
    },
    {
      "cell_type": "code",
      "source": [
        "import torch\n",
        "from torch import nn # nn contains all of PyTorch's building blocks for neural networks\n",
        "# https://pytorch.org/docs/stable/nn.html torch.nn documents\n",
        "import matplotlib.pyplot as plt\n",
        "# Check PyTorch version\n",
        "torch.__version__"
      ],
      "metadata": {
        "colab": {
          "base_uri": "https://localhost:8080/",
          "height": 36
        },
        "id": "i3W6YZCyXj_9",
        "outputId": "30ebe4d3-2c00-4657-a390-3b8eb42b0ed4"
      },
      "execution_count": 2,
      "outputs": [
        {
          "output_type": "execute_result",
          "data": {
            "text/plain": [
              "'2.2.1+cu121'"
            ],
            "application/vnd.google.colaboratory.intrinsic+json": {
              "type": "string"
            }
          },
          "metadata": {},
          "execution_count": 2
        }
      ]
    },
    {
      "cell_type": "markdown",
      "source": [
        "## 1. Data (preparing and loading)\n",
        "\n",
        "* Excel speadsheet\n",
        "\n",
        "* Images of any kind\n",
        "\n",
        "* Videos (Yotube has lots of data),\n",
        "\n",
        "* Audio like songs or podcasts\n",
        "\n",
        "* DNA\n",
        "\n",
        "* Text\n",
        "\n",
        "Machine learning is a game of two parts:\n",
        "\n",
        "1. Get data into a numerical representation\n",
        "\n",
        "2. Build a model to learn patterns in that numerical representation\n",
        "\n",
        "To showcase this,let's create *know* data using the linear regression formula.\n",
        "\n",
        "\n",
        "We'll use a linear regression formula to make a straight line with *known* **parameters**"
      ],
      "metadata": {
        "id": "qO3QTncXYW1j"
      }
    },
    {
      "cell_type": "code",
      "source": [
        "# Linear regression formula\n",
        "# Y = a +bX\n",
        "# Create *known* parameters\n",
        "weight = 0.7# b\n",
        "bias = 0.3# a\n",
        "\n",
        "# Create\n",
        "start = 0\n",
        "end = 1\n",
        "step = 0.02\n",
        "X=torch.arange(start,end,step).unsqueeze(dim=1) # input\n",
        "y = bias + weight*X # output\n",
        "\n",
        "X[:10],y[:10]"
      ],
      "metadata": {
        "colab": {
          "base_uri": "https://localhost:8080/"
        },
        "id": "XnoeCTjCY686",
        "outputId": "3e249140-accd-4026-86c9-440635e21b69"
      },
      "execution_count": 3,
      "outputs": [
        {
          "output_type": "execute_result",
          "data": {
            "text/plain": [
              "(tensor([[0.0000],\n",
              "         [0.0200],\n",
              "         [0.0400],\n",
              "         [0.0600],\n",
              "         [0.0800],\n",
              "         [0.1000],\n",
              "         [0.1200],\n",
              "         [0.1400],\n",
              "         [0.1600],\n",
              "         [0.1800]]),\n",
              " tensor([[0.3000],\n",
              "         [0.3140],\n",
              "         [0.3280],\n",
              "         [0.3420],\n",
              "         [0.3560],\n",
              "         [0.3700],\n",
              "         [0.3840],\n",
              "         [0.3980],\n",
              "         [0.4120],\n",
              "         [0.4260]]))"
            ]
          },
          "metadata": {},
          "execution_count": 3
        }
      ]
    },
    {
      "cell_type": "code",
      "source": [
        "len(X),len(y)"
      ],
      "metadata": {
        "colab": {
          "base_uri": "https://localhost:8080/"
        },
        "id": "ccNN0IB8jR3D",
        "outputId": "b569cfc5-ea0a-4c4a-d4c5-fb31de08819e"
      },
      "execution_count": 4,
      "outputs": [
        {
          "output_type": "execute_result",
          "data": {
            "text/plain": [
              "(50, 50)"
            ]
          },
          "metadata": {},
          "execution_count": 4
        }
      ]
    },
    {
      "cell_type": "markdown",
      "source": [
        "### Splitting data into training and test sets (one of the most important concepts in machine learning in general)\n",
        "\n",
        "Let's create a training and test set with our data"
      ],
      "metadata": {
        "id": "mTaL6OskpUoJ"
      }
    },
    {
      "cell_type": "code",
      "source": [
        "# Create a train/test split\n",
        "train_split = int(0.8*len(X))\n",
        "X_train,y_train = X[:train_split],y[:train_split]\n",
        "X_test,y_test = X[train_split:],y[train_split:]\n",
        "len(X_train),len(y_train),len(X_test),len(y_test)"
      ],
      "metadata": {
        "colab": {
          "base_uri": "https://localhost:8080/"
        },
        "id": "yoYDolBSW19H",
        "outputId": "83c819db-9984-4735-cdcc-61a5cd34bbdc"
      },
      "execution_count": 5,
      "outputs": [
        {
          "output_type": "execute_result",
          "data": {
            "text/plain": [
              "(40, 40, 10, 10)"
            ]
          },
          "metadata": {},
          "execution_count": 5
        }
      ]
    },
    {
      "cell_type": "markdown",
      "source": [
        "How might we better visualize our data"
      ],
      "metadata": {
        "id": "Wofu6Vq7YhrM"
      }
    },
    {
      "cell_type": "code",
      "source": [
        "def plot_predictions(train_data=X_train,\n",
        "                     train_labels=y_train,\n",
        "                     test_data=X_test,\n",
        "                     test_labels=y_test,\n",
        "                     predictions=None):\n",
        "  \"\"\"\n",
        "  Plots training data,test data and compares predictions\n",
        "  \"\"\"\n",
        "  plt.figure(figsize=(10,7))\n",
        "\n",
        "  # Plot training data in blue\n",
        "  plt.scatter(train_data,train_labels,c=\"b\",s=4,label=\"Training data\")\n",
        "\n",
        "  # Plot test data in yellow\n",
        "  plt.scatter(test_data,test_labels,c=\"y\",s=4,label=\"Testing data\")\n",
        "\n",
        "  # Are predictions?\n",
        "  if predictions is not None:\n",
        "    # Plot the predictions if they exist\n",
        "    plt.scatter(test_data,predictions,c=\"r\",s=4,label=\"Predictions\")\n",
        "\n",
        "  # Show the lagend\n",
        "  plt.legend(prop={\"size\":14});"
      ],
      "metadata": {
        "id": "Cy9JjSnNcHMZ"
      },
      "execution_count": 6,
      "outputs": []
    },
    {
      "cell_type": "code",
      "source": [
        "plot_predictions()"
      ],
      "metadata": {
        "colab": {
          "base_uri": "https://localhost:8080/",
          "height": 599
        },
        "id": "YdkVfpDmeY3G",
        "outputId": "f29197a1-b82a-46a6-df67-7efcfac3ec4d"
      },
      "execution_count": 7,
      "outputs": [
        {
          "output_type": "display_data",
          "data": {
            "text/plain": [
              "<Figure size 1000x700 with 1 Axes>"
            ],
            "image/png": "[encoded data removed]"
          },
          "metadata": {}
        }
      ]
    },
    {
      "cell_type": "markdown",
      "source": [
        "## 2. Build model\n",
        "\n",
        "Our first PyTorch model!\n",
        "\n",
        "What our model does:\n",
        "\n",
        "* Start with random values(weight & bias)\n",
        "\n",
        "* Look at training data and adjust the random values to better represent (or get closer to) the ideal values (the weight & bias values we used to create the data)\n",
        "\n",
        "How does it do so?\n",
        "\n",
        "Throught two main algorithms\n",
        "1. Gradient descent\n",
        "\n",
        "2. Backpropagation\n",
        "\n",
        "* Turkçesi modelimiz rasgele sayılarla başlayacak ve gradient descent kullanarak (weight & bias) parametrelerini günceller\n",
        "\n"
      ],
      "metadata": {
        "id": "EC6VVwYped12"
      }
    },
    {
      "cell_type": "code",
      "source": [
        "#import torch.nn as nn\n",
        "#import torch.nn.functional as F\n",
        "\n",
        "#class Model(nn.Module):\n",
        "    #def __init__(self):\n",
        "        #super().__init__()\n",
        "        #self.conv1 = nn.Conv2d(1, 20, 5)\n",
        "        #self.conv2 = nn.Conv2d(20, 20, 5)\n",
        "\n",
        "    #def forward(self, x):\n",
        "       # x = F.relu(self.conv1(x))\n",
        "        #return F.relu(self.conv2(x))"
      ],
      "metadata": {
        "id": "VUOCWOUL2skr"
      },
      "execution_count": 8,
      "outputs": []
    },
    {
      "cell_type": "code",
      "source": [
        "from torch import nn # nn sinir ağları yapı taşı katmanıdır sinir ağı modelidir\n",
        "# Create linear regression model class\n",
        "class LinearRegressionModel(nn.Module):# ınheritance  yani kalıtım başka bir sınıfın fonksyiyonlarını kalıtım yolu ile alıyoruz\n",
        "  # -< almost everything in PyTorch inherhits from nn.Module(PyTorch hemen hemen her şey nn.Module den miras alır) yani bir  herhangi bir PyTorch modeli oluşturmak istersek\n",
        "  # Bu sınıftan kalıtım almak zorundayız\n",
        "  def __init__(self):\n",
        "    super().__init__()\n",
        "    self.weights = nn.Parameter(torch.randn(1,# <- start with a random weight and try to adjust it to the ideal weight\n",
        "                                            requires_grad=True,# if requires_grad=True model use gradient descent\n",
        "                                            dtype=torch.float))\n",
        "    self.bias = nn.Parameter(torch.randn(1,\n",
        "                                         requires_grad=True,\n",
        "                                         dtype=torch.float))\n",
        "    # Forward method to define the computation in the model\n",
        "    # forward() defines the computation in the model modeldeki hesaplamayı tanımlar\n",
        "    def forward(self,x:torch.Tensor) -> torch.Tensor:#<- \"x\" is the input data\n",
        "      return self.weights * x + self.bias # this is the linear regression formula\n",
        "      # forward() methodu bizim kulanımımızda doğrusal regresyon fonksiyonudur"
      ],
      "metadata": {
        "id": "TrYWcZThyEwC"
      },
      "execution_count": 9,
      "outputs": []
    },
    {
      "cell_type": "markdown",
      "source": [
        "### PyTorch model building essentials\n",
        "\n",
        "* torch.nn - contains all of the buildings for computationel graphs (another word for neural network can be considered a computationel)\n",
        "\n",
        "* torch.nn.Parameter - what parameters should our model try and learn,often a PyTorch layer from torch.nn will set these for us\n",
        "\n",
        "* torch.nn.Module - The base class for all neural network modules,if you subclass it you should overwrite forward()\n",
        "\n",
        "* torch.optim - this where the optimizers in PyTorch live they will help with gradient descent\n",
        "\n",
        "* def forward() - All nn.Module subclasses require you to overwrite forward(),this method defines what happend in the forward computation\n",
        "turkish:Tüm nn.Module alt sınıfları, forward() fonksiyonunu geçersiz kılmanızı gerektirir bu method ileriye dönük hesaplamada ne olacağını tanımlar"
      ],
      "metadata": {
        "id": "3isePtlLz_bm"
      }
    },
    {
      "cell_type": "markdown",
      "source": [
        "extra resources:https://pytorch.org/tutorials/beginner/ptcheat.html"
      ],
      "metadata": {
        "id": "cK5_GZLW0TQ3"
      }
    },
    {
      "cell_type": "markdown",
      "source": [
        "### Checking the contents of our PyTorch model\n",
        "\n",
        "Now we've created a model,let's see what's inside\n",
        "\n",
        "So we can check our model parameters or what's inside our model using .parameters()"
      ],
      "metadata": {
        "id": "Oe37UU285oSd"
      }
    },
    {
      "cell_type": "code",
      "source": [
        "# Create a random seed\n",
        "torch.manual_seed(1001)\n",
        "\n",
        "# Create an instance of the model (this is a subclass of nn.Module)\n",
        "model_0 = LinearRegressionModel()\n",
        "# Check out the parameters\n",
        "list(model_0.parameters())"
      ],
      "metadata": {
        "colab": {
          "base_uri": "https://localhost:8080/"
        },
        "id": "Hsu4Y4-X6zpE",
        "outputId": "59e07e7b-5458-4629-fa2b-ac2badac9bec"
      },
      "execution_count": 14,
      "outputs": [
        {
          "output_type": "execute_result",
          "data": {
            "text/plain": [
              "[Parameter containing:\n",
              " tensor([1.0076], requires_grad=True),\n",
              " Parameter containing:\n",
              " tensor([1.6678], requires_grad=True)]"
            ]
          },
          "metadata": {},
          "execution_count": 14
        }
      ]
    },
    {
      "cell_type": "markdown",
      "source": [
        "These are model parameters"
      ],
      "metadata": {
        "id": "v2580Rhr7-Xa"
      }
    },
    {
      "cell_type": "code",
      "source": [
        "# List named parameters\n",
        "model_0.state_dict()"
      ],
      "metadata": {
        "colab": {
          "base_uri": "https://localhost:8080/"
        },
        "id": "sTXKD6Y-8fc5",
        "outputId": "194874d5-1eda-4b31-e22f-71375a0677a6"
      },
      "execution_count": 15,
      "outputs": [
        {
          "output_type": "execute_result",
          "data": {
            "text/plain": [
              "OrderedDict([('weights', tensor([1.0076])), ('bias', tensor([1.6678]))])"
            ]
          },
          "metadata": {},
          "execution_count": 15
        }
      ]
    },
    {
      "cell_type": "code",
      "source": [
        "weight,bias"
      ],
      "metadata": {
        "colab": {
          "base_uri": "https://localhost:8080/"
        },
        "id": "sjh1Vf3P9ZOB",
        "outputId": "d7287e04-dec8-4f3b-bf90-96b64a6670c1"
      },
      "execution_count": 16,
      "outputs": [
        {
          "output_type": "execute_result",
          "data": {
            "text/plain": [
              "(0.7, 0.3)"
            ]
          },
          "metadata": {},
          "execution_count": 16
        }
      ]
    },
    {
      "cell_type": "code",
      "source": [],
      "metadata": {
        "id": "jkmB2sHy9rSQ"
      },
      "execution_count": null,
      "outputs": []
    }
  ]
}