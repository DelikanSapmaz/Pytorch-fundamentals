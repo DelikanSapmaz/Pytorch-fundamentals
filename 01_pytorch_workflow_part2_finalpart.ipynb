{
  "cells": [
    {
      "cell_type": "markdown",
      "metadata": {
        "id": "yS94Fvg9WEpW"
      },
      "source": [
        "# PyTorch Workflow\n",
        "\n",
        "Let's explore a an example PyTorch end-to-end workflow\n",
        "\n"
      ]
    },
    {
      "cell_type": "code",
      "execution_count": null,
      "metadata": {
        "colab": {
          "base_uri": "https://localhost:8080/"
        },
        "id": "Fct4JWGBXf1s",
        "outputId": "c0808070-45cc-4e4c-d3a0-b3d15e433313"
      },
      "outputs": [
        {
          "data": {
            "text/plain": [
              "{1: 'data (prepare and load)',\n",
              " 2: 'build model',\n",
              " 3: 'fitting the model to data (training)',\n",
              " 4: 'making predictions and evaluating a model (inference)',\n",
              " 5: 'saving and loading a model',\n",
              " 6: 'putting it all together'}"
            ]
          },
          "execution_count": 1,
          "metadata": {},
          "output_type": "execute_result"
        }
      ],
      "source": [
        "what_were_covering = {1: \"data (prepare and load)\",\n",
        "    2: \"build model\",\n",
        "    3: \"fitting the model to data (training)\",\n",
        "    4: \"making predictions and evaluating a model (inference)\",\n",
        "    5: \"saving and loading a model\",\n",
        "    6: \"putting it all together\"\n",
        "}\n",
        "what_were_covering"
      ]
    },
    {
      "cell_type": "code",
      "execution_count": null,
      "metadata": {
        "colab": {
          "base_uri": "https://localhost:8080/",
          "height": 36
        },
        "id": "i3W6YZCyXj_9",
        "outputId": "9d48664b-0737-41e5-f6bc-a117445d1a26"
      },
      "outputs": [
        {
          "data": {
            "application/vnd.google.colaboratory.intrinsic+json": {
              "type": "string"
            },
            "text/plain": [
              "'2.2.1+cu121'"
            ]
          },
          "execution_count": 2,
          "metadata": {},
          "output_type": "execute_result"
        }
      ],
      "source": [
        "import torch\n",
        "from torch import nn # nn contains all of PyTorch's building blocks for neural networks\n",
        "# https://pytorch.org/docs/stable/nn.html torch.nn documents\n",
        "import matplotlib.pyplot as plt\n",
        "# Check PyTorch version\n",
        "torch.__version__"
      ]
    },
    {
      "cell_type": "markdown",
      "metadata": {
        "id": "qO3QTncXYW1j"
      },
      "source": [
        "## 1. Data (preparing and loading)\n",
        "\n",
        "* Excel speadsheet\n",
        "\n",
        "* Images of any kind\n",
        "\n",
        "* Videos (Yotube has lots of data),\n",
        "\n",
        "* Audio like songs or podcasts\n",
        "\n",
        "* DNA\n",
        "\n",
        "* Text\n",
        "\n",
        "Machine learning is a game of two parts:\n",
        "\n",
        "1. Get data into a numerical representation\n",
        "\n",
        "2. Build a model to learn patterns in that numerical representation\n",
        "\n",
        "To showcase this,let's create *know* data using the linear regression formula.\n",
        "\n",
        "\n",
        "We'll use a linear regression formula to make a straight line with *known* **parameters**"
      ]
    },
    {
      "cell_type": "code",
      "execution_count": null,
      "metadata": {
        "colab": {
          "base_uri": "https://localhost:8080/"
        },
        "id": "XnoeCTjCY686",
        "outputId": "03d0b3cf-3440-4fbf-e20d-b8fc4df219d1"
      },
      "outputs": [
        {
          "data": {
            "text/plain": [
              "(tensor([[0.0000],\n",
              "         [0.0200],\n",
              "         [0.0400],\n",
              "         [0.0600],\n",
              "         [0.0800],\n",
              "         [0.1000],\n",
              "         [0.1200],\n",
              "         [0.1400],\n",
              "         [0.1600],\n",
              "         [0.1800]]),\n",
              " tensor([[0.3000],\n",
              "         [0.3140],\n",
              "         [0.3280],\n",
              "         [0.3420],\n",
              "         [0.3560],\n",
              "         [0.3700],\n",
              "         [0.3840],\n",
              "         [0.3980],\n",
              "         [0.4120],\n",
              "         [0.4260]]))"
            ]
          },
          "execution_count": 3,
          "metadata": {},
          "output_type": "execute_result"
        }
      ],
      "source": [
        "# Linear regression formula\n",
        "# Y = a +bX\n",
        "# Create *known* parameters\n",
        "weight = 0.7# b\n",
        "bias = 0.3# a\n",
        "\n",
        "# Create\n",
        "start = 0\n",
        "end = 1\n",
        "step = 0.02\n",
        "X=torch.arange(start,end,step).unsqueeze(dim=1) # input\n",
        "y = bias + weight*X # output\n",
        "\n",
        "X[:10],y[:10]"
      ]
    },
    {
      "cell_type": "code",
      "execution_count": null,
      "metadata": {
        "colab": {
          "base_uri": "https://localhost:8080/"
        },
        "id": "ccNN0IB8jR3D",
        "outputId": "25dc85f2-586b-4e43-ea0d-3b6c8bc5e837"
      },
      "outputs": [
        {
          "data": {
            "text/plain": [
              "(50, 50)"
            ]
          },
          "execution_count": 4,
          "metadata": {},
          "output_type": "execute_result"
        }
      ],
      "source": [
        "len(X),len(y)"
      ]
    },
    {
      "cell_type": "markdown",
      "metadata": {
        "id": "mTaL6OskpUoJ"
      },
      "source": [
        "### Splitting data into training and test sets (one of the most important concepts in machine learning in general)\n",
        "\n",
        "Let's create a training and test set with our data"
      ]
    },
    {
      "cell_type": "code",
      "execution_count": null,
      "metadata": {
        "colab": {
          "base_uri": "https://localhost:8080/"
        },
        "id": "yoYDolBSW19H",
        "outputId": "03b1a4a3-7b85-4a63-f799-8117cef9dfee"
      },
      "outputs": [
        {
          "data": {
            "text/plain": [
              "(40, 40, 10, 10)"
            ]
          },
          "execution_count": 5,
          "metadata": {},
          "output_type": "execute_result"
        }
      ],
      "source": [
        "# Create a train/test split\n",
        "train_split = int(0.8*len(X))\n",
        "X_train,y_train = X[:train_split],y[:train_split]\n",
        "X_test,y_test = X[train_split:],y[train_split:]\n",
        "len(X_train),len(y_train),len(X_test),len(y_test)"
      ]
    },
    {
      "cell_type": "markdown",
      "metadata": {
        "id": "Wofu6Vq7YhrM"
      },
      "source": [
        "How might we better visualize our data"
      ]
    },
    {
      "cell_type": "code",
      "execution_count": null,
      "metadata": {
        "id": "Cy9JjSnNcHMZ"
      },
      "outputs": [],
      "source": [
        "def plot_predictions(train_data=X_train,\n",
        "                     train_labels=y_train,\n",
        "                     test_data=X_test,\n",
        "                     test_labels=y_test,\n",
        "                     predictions=None):\n",
        "  \"\"\"\n",
        "  Plots training data,test data and compares predictions\n",
        "  \"\"\"\n",
        "  plt.figure(figsize=(10,7))\n",
        "\n",
        "  # Plot training data in blue\n",
        "  plt.scatter(train_data,train_labels,c=\"b\",s=4,label=\"Training data\")\n",
        "\n",
        "  # Plot test data in yellow\n",
        "  plt.scatter(test_data,test_labels,c=\"y\",s=4,label=\"Testing data\")\n",
        "\n",
        "  # Are predictions?\n",
        "  if predictions is not None:\n",
        "    # Plot the predictions if they exist\n",
        "    plt.scatter(test_data,predictions,c=\"r\",s=4,label=\"Predictions\")\n",
        "\n",
        "  # Show the lagend\n",
        "  plt.legend(prop={\"size\":14});"
      ]
    },
    {
      "cell_type": "code",
      "execution_count": null,
      "metadata": {
        "colab": {
          "base_uri": "https://localhost:8080/",
          "height": 599
        },
        "id": "YdkVfpDmeY3G",
        "outputId": "2eda9745-5c6c-4fd3-e61d-a07ec7086755"
      },
      "outputs": [
        {
          "data": {
            "image/png": "[encoded data removed]",
            "text/plain": [
              "<Figure size 1000x700 with 1 Axes>"
            ]
          },
          "metadata": {},
          "output_type": "display_data"
        }
      ],
      "source": [
        "plot_predictions()"
      ]
    },
    {
      "cell_type": "markdown",
      "metadata": {
        "id": "EC6VVwYped12"
      },
      "source": [
        "## 2. Build model\n",
        "\n",
        "Our first PyTorch model!\n",
        "\n",
        "What our model does:\n",
        "\n",
        "* Start with random values(weight & bias)\n",
        "\n",
        "* Look at training data and adjust the random values to better represent (or get closer to) the ideal values (the weight & bias values we used to create the data)\n",
        "\n",
        "How does it do so?\n",
        "\n",
        "Throught two main algorithms\n",
        "1. Gradient descent\n",
        "\n",
        "2. Backpropagation\n",
        "\n",
        "* Turkçesi modelimiz rasgele sayılarla başlayacak ve gradient descent kullanarak (weight & bias) parametrelerini günceller\n",
        "\n"
      ]
    },
    {
      "cell_type": "code",
      "execution_count": null,
      "metadata": {
        "id": "VUOCWOUL2skr"
      },
      "outputs": [],
      "source": [
        "#import torch.nn as nn\n",
        "#import torch.nn.functional as F\n",
        "\n",
        "#class Model(nn.Module):\n",
        "    #def __init__(self):\n",
        "        #super().__init__()\n",
        "        #self.conv1 = nn.Conv2d(1, 20, 5)\n",
        "        #self.conv2 = nn.Conv2d(20, 20, 5)\n",
        "\n",
        "    #def forward(self, x):\n",
        "       # x = F.relu(self.conv1(x))\n",
        "        #return F.relu(self.conv2(x))"
      ]
    },
    {
      "cell_type": "code",
      "execution_count": null,
      "metadata": {
        "id": "TrYWcZThyEwC"
      },
      "outputs": [],
      "source": [
        "from torch import nn # nn sinir ağları yapı taşı katmanıdır sinir ağı modelidir\n",
        "# Create linear regression model class\n",
        "class LinearRegressionModel(nn.Module):# ınheritance  yani kalıtım başka bir sınıfın fonksyiyonlarını kalıtım yolu ile alıyoruz\n",
        "  # -< almost everything in PyTorch inherhits from nn.Module(PyTorch hemen hemen her şey nn.Module den miras alır) yani bir  herhangi bir PyTorch modeli oluşturmak istersek\n",
        "  # Bu sınıftan kalıtım almak zorundayız\n",
        "  def __init__(self):\n",
        "    super().__init__()\n",
        "    self.weights = nn.Parameter(torch.randn(1,# <- start with a random weight and try to adjust it to the ideal weight\n",
        "                                            requires_grad=True,# if requires_grad=True model use gradient descent\n",
        "                                            dtype=torch.float))\n",
        "    self.bias = nn.Parameter(torch.randn(1,\n",
        "                                         requires_grad=True,\n",
        "                                         dtype=torch.float))\n",
        "    # Forward method to define the computation in the model\n",
        "    # forward() defines the computation in the model modeldeki hesaplamayı tanımlar\n",
        "  def forward(self,x:torch.Tensor) -> torch.Tensor:#<- \"x\" is the input data\n",
        "    return self.weights * x + self.bias # this is the linear regression formula\n",
        "    # forward() methodu bizim kulanımımızda doğrusal regresyon fonksiyonudur"
      ]
    },
    {
      "cell_type": "markdown",
      "metadata": {
        "id": "3isePtlLz_bm"
      },
      "source": [
        "### PyTorch model building essentials\n",
        "\n",
        "* torch.nn - contains all of the buildings for computationel graphs (another word for neural network can be considered a computationel)\n",
        "\n",
        "* torch.nn.Parameter - what parameters should our model try and learn,often a PyTorch layer from torch.nn will set these for us\n",
        "\n",
        "* torch.nn.Module - The base class for all neural network modules,if you subclass it you should overwrite forward()\n",
        "\n",
        "* torch.optim - this where the optimizers in PyTorch live they will help with gradient descent\n",
        "\n",
        "* def forward() - All nn.Module subclasses require you to overwrite forward(),this method defines what happend in the forward computation\n",
        "turkish:Tüm nn.Module alt sınıfları, forward() fonksiyonunu geçersiz kılmanızı gerektirir bu method ileriye dönük hesaplamada ne olacağını tanımlar"
      ]
    },
    {
      "cell_type": "markdown",
      "metadata": {
        "id": "cK5_GZLW0TQ3"
      },
      "source": [
        "extra resources:https://pytorch.org/tutorials/beginner/ptcheat.html"
      ]
    },
    {
      "cell_type": "markdown",
      "metadata": {
        "id": "Oe37UU285oSd"
      },
      "source": [
        "### Checking the contents of our PyTorch model\n",
        "\n",
        "Now we've created a model,let's see what's inside\n",
        "\n",
        "So we can check our model parameters or what's inside our model using .parameters()"
      ]
    },
    {
      "cell_type": "code",
      "execution_count": null,
      "metadata": {
        "colab": {
          "base_uri": "https://localhost:8080/"
        },
        "id": "Hsu4Y4-X6zpE",
        "outputId": "a0c3d533-f55f-40b4-b0e9-1ba9ac7d8c17"
      },
      "outputs": [
        {
          "data": {
            "text/plain": [
              "[Parameter containing:\n",
              " tensor([-1.1224], requires_grad=True),\n",
              " Parameter containing:\n",
              " tensor([0.0312], requires_grad=True)]"
            ]
          },
          "execution_count": 10,
          "metadata": {},
          "output_type": "execute_result"
        }
      ],
      "source": [
        "# Create a random seed\n",
        "torch.manual_seed(45)\n",
        "\n",
        "# Create an instance of the model (this is a subclass of nn.Module)\n",
        "model_0 = LinearRegressionModel()\n",
        "# Check out the parameters\n",
        "list(model_0.parameters())"
      ]
    },
    {
      "cell_type": "markdown",
      "metadata": {
        "id": "v2580Rhr7-Xa"
      },
      "source": [
        "These are model parameters"
      ]
    },
    {
      "cell_type": "code",
      "execution_count": null,
      "metadata": {
        "colab": {
          "base_uri": "https://localhost:8080/"
        },
        "id": "sTXKD6Y-8fc5",
        "outputId": "a546e047-069e-47d1-fb0e-f46228d2df12"
      },
      "outputs": [
        {
          "data": {
            "text/plain": [
              "OrderedDict([('weights', tensor([-1.1224])), ('bias', tensor([0.0312]))])"
            ]
          },
          "execution_count": 11,
          "metadata": {},
          "output_type": "execute_result"
        }
      ],
      "source": [
        "# List named parameters\n",
        "model_0.state_dict()"
      ]
    },
    {
      "cell_type": "code",
      "execution_count": null,
      "metadata": {
        "colab": {
          "base_uri": "https://localhost:8080/"
        },
        "id": "sjh1Vf3P9ZOB",
        "outputId": "6215f947-af1c-4316-91c3-4773872f9ae6"
      },
      "outputs": [
        {
          "data": {
            "text/plain": [
              "(0.7, 0.3)"
            ]
          },
          "execution_count": 12,
          "metadata": {},
          "output_type": "execute_result"
        }
      ],
      "source": [
        "weight,bias"
      ]
    },
    {
      "cell_type": "markdown",
      "metadata": {
        "id": "jkmB2sHy9rSQ"
      },
      "source": [
        "### Making prediction using torch.inference_mode()\n",
        "\n",
        "To check our model's predictive power,let's see how well it predicts y_test based on X_test.\n",
        "\n",
        "When we pass data through our model,it's going to run it through the forward() method.\n",
        "\n",
        "Modelimizden veri geçirdiğimizde, onu forward() yöntemiyle çalıştıracağız.\n"
      ]
    },
    {
      "cell_type": "code",
      "execution_count": null,
      "metadata": {
        "colab": {
          "base_uri": "https://localhost:8080/"
        },
        "id": "iZgsSvtJALRE",
        "outputId": "3f4dd2e5-2450-4a8f-9bc3-89cb7bac1a43"
      },
      "outputs": [
        {
          "data": {
            "text/plain": [
              "(tensor([[0.8000],\n",
              "         [0.8200],\n",
              "         [0.8400],\n",
              "         [0.8600],\n",
              "         [0.8800],\n",
              "         [0.9000],\n",
              "         [0.9200],\n",
              "         [0.9400],\n",
              "         [0.9600],\n",
              "         [0.9800]]),\n",
              " tensor([[0.8600],\n",
              "         [0.8740],\n",
              "         [0.8880],\n",
              "         [0.9020],\n",
              "         [0.9160],\n",
              "         [0.9300],\n",
              "         [0.9440],\n",
              "         [0.9580],\n",
              "         [0.9720],\n",
              "         [0.9860]]))"
            ]
          },
          "execution_count": 13,
          "metadata": {},
          "output_type": "execute_result"
        }
      ],
      "source": [
        "X_test,y_test"
      ]
    },
    {
      "cell_type": "code",
      "execution_count": null,
      "metadata": {
        "colab": {
          "base_uri": "https://localhost:8080/"
        },
        "id": "fPSI0kQ-GW78",
        "outputId": "b9d9ecb4-05fa-4caa-9a22-baa880b622be"
      },
      "outputs": [
        {
          "data": {
            "text/plain": [
              "tensor([[-0.8667],\n",
              "        [-0.8892],\n",
              "        [-0.9116],\n",
              "        [-0.9341],\n",
              "        [-0.9565],\n",
              "        [-0.9790],\n",
              "        [-1.0014],\n",
              "        [-1.0239],\n",
              "        [-1.0463],\n",
              "        [-1.0687]], grad_fn=<AddBackward0>)"
            ]
          },
          "execution_count": 14,
          "metadata": {},
          "output_type": "execute_result"
        }
      ],
      "source": [
        "y_preds=model_0(X_test)\n",
        "y_preds"
      ]
    },
    {
      "cell_type": "code",
      "execution_count": null,
      "metadata": {
        "colab": {
          "base_uri": "https://localhost:8080/"
        },
        "id": "bAd92tWw_Fc7",
        "outputId": "df639a97-aa21-43b1-b06e-dfd1b05c0e15"
      },
      "outputs": [
        {
          "data": {
            "text/plain": [
              "tensor([[-0.8667],\n",
              "        [-0.8892],\n",
              "        [-0.9116],\n",
              "        [-0.9341],\n",
              "        [-0.9565],\n",
              "        [-0.9790],\n",
              "        [-1.0014],\n",
              "        [-1.0239],\n",
              "        [-1.0463],\n",
              "        [-1.0687]])"
            ]
          },
          "execution_count": 15,
          "metadata": {},
          "output_type": "execute_result"
        }
      ],
      "source": [
        "# Make predictions with model\n",
        "with torch.inference_mode():#\n",
        "  #The difference between the prediction above is that we ran the model with\n",
        "  #requires_grad=False, meaning we turned off gradient tracking. The upside of this is that it entails tracking less data.\n",
        "\n",
        "  #bu modu kulanarak modelimizi tahmin yaptırdık X_test datasını verip y_preds sonuçlarını bulduk\n",
        "  #yukarıdki tahmin arasındaki fark bu mode requires_grad=False olrak çalıştırır yani gradyan izlemyi kapatır bunun iyi tarafı daha az veriyi takip ettiği anlamına gelir\n",
        "  y_preds = model_0(X_test)\n",
        "\n",
        "y_preds\n",
        "\n",
        "# You can also do something similar with torch.no_grad(), however torch.infrence_mode() is preferred\n",
        "#with torch.no_grad():\n",
        "  #y_preds=model_0(X_test)\n",
        "\n",
        "# documentation:https://pytorch.org/docs/stable/generated/torch.inference_mode.html"
      ]
    },
    {
      "cell_type": "code",
      "execution_count": null,
      "metadata": {
        "colab": {
          "base_uri": "https://localhost:8080/"
        },
        "id": "gIj_vDksAU4D",
        "outputId": "8a12d381-66e5-4999-ba13-118ead33d1e5"
      },
      "outputs": [
        {
          "data": {
            "text/plain": [
              "tensor([[0.8600],\n",
              "        [0.8740],\n",
              "        [0.8880],\n",
              "        [0.9020],\n",
              "        [0.9160],\n",
              "        [0.9300],\n",
              "        [0.9440],\n",
              "        [0.9580],\n",
              "        [0.9720],\n",
              "        [0.9860]])"
            ]
          },
          "execution_count": 16,
          "metadata": {},
          "output_type": "execute_result"
        }
      ],
      "source": [
        "y_test"
      ]
    },
    {
      "cell_type": "code",
      "execution_count": null,
      "metadata": {
        "colab": {
          "base_uri": "https://localhost:8080/",
          "height": 599
        },
        "id": "bX4SJddHBK6j",
        "outputId": "0ca08a17-611e-4bb4-8360-d2df763cbbe3"
      },
      "outputs": [
        {
          "data": {
            "image/png": "[encoded data removed]",
            "text/plain": [
              "<Figure size 1000x700 with 1 Axes>"
            ]
          },
          "metadata": {},
          "output_type": "display_data"
        }
      ],
      "source": [
        "plot_predictions(predictions=y_preds)"
      ]
    },
    {
      "cell_type": "markdown",
      "metadata": {
        "id": "vZAtzXNeF-M1"
      },
      "source": [
        "## 3.Train model\n",
        "\n",
        "The whole idea of training is for a model to move from some *unknown* parameters (these maybe random) to some *know* parameters\n",
        "\n",
        "or in other words from a poor representation of the data to better representation of the data\n",
        "\n",
        "One way to measure how poor or how wrong your models predictions are is to use a loss function\n",
        "\n",
        "* Note:Loss function may also be called cost function or criterion in different areas.For our case,we're going to refer to it as a loss function\n",
        "\n",
        "Thinks we need to train\n",
        "\n",
        "* **Loss function:** A function to measure how wrong your model's predictions are the ideal outputs,lower is better\n",
        "\n",
        "* **optimizer:** Takes into account the loss of a model and adjust the model's parameters(e.g weight & bias )\n",
        "\n",
        "********************************************************************************\n",
        "Eğitimin bütün amacı, bir modelin bazı bilinmeyen parametrelerden (bunlar belki rastgele olabilir) bazı bilinen parametrelere doğru hareket etmesidir. Başka bir deyişle, verilerin zayıf bir temsilinden daha iyi bir temsile doğru ilerlemektir.\n",
        "\n",
        "Modelinizin tahminlerinin ne kadar kötü veya yanlış olduğunu ölçmenin bir yolu, bir kayıp fonksiyonu kullanmaktır.\n",
        "\n",
        "* Not: Farklı alanlarda kayıp fonksiyonu farklı isimlerle anılabilir. Bizim durumumuzda, ona bir kayıp fonksiyonu olarak atıfta bulunacağız.\n",
        "\n",
        "* **Kayıp Fonksiyonu:** Modelinizin tahminlerinin ideal çıktılara ne kadar yanlış olduğunu ölçen bir fonksiyon, daha düşük değer daha iyidir.\n",
        "\n",
        "* **optimizer:** Bir modelin kaybını hesaba katar ve modelin parametrelerini ayarlar"
      ]
    },
    {
      "cell_type": "code",
      "execution_count": null,
      "metadata": {
        "colab": {
          "base_uri": "https://localhost:8080/"
        },
        "id": "SSUErGfNpJ1z",
        "outputId": "bbc61ca9-386b-4cc5-a40c-861e3ccf8bea"
      },
      "outputs": [
        {
          "data": {
            "text/plain": [
              "[Parameter containing:\n",
              " tensor([-1.1224], requires_grad=True),\n",
              " Parameter containing:\n",
              " tensor([0.0312], requires_grad=True)]"
            ]
          },
          "execution_count": 18,
          "metadata": {},
          "output_type": "execute_result"
        }
      ],
      "source": [
        "list(model_0.parameters())"
      ]
    },
    {
      "cell_type": "code",
      "execution_count": null,
      "metadata": {
        "colab": {
          "base_uri": "https://localhost:8080/"
        },
        "id": "-EM62KMCsM9h",
        "outputId": "a700fe0c-3780-46f5-f3c3-1c178de3859e"
      },
      "outputs": [
        {
          "data": {
            "text/plain": [
              "OrderedDict([('weights', tensor([-1.1224])), ('bias', tensor([0.0312]))])"
            ]
          },
          "execution_count": 19,
          "metadata": {},
          "output_type": "execute_result"
        }
      ],
      "source": [
        "# Check out our model's parameters (a parameter is a value that the model sets itself)\n",
        "model_0.state_dict()"
      ]
    },
    {
      "cell_type": "code",
      "execution_count": null,
      "metadata": {
        "id": "m3Pgun-csS6P"
      },
      "outputs": [],
      "source": [
        "# Setup a loss function\n",
        "loss_fn = nn.L1Loss()\n",
        "\n",
        "# Setup an optimizer (stochastic gradient descent )\n",
        "optimizer = torch.optim.SGD(params=model_0.parameters(),\n",
        "                            lr=0.01) # lr = learning rate = possibly the most important hyperparameter you can set\n",
        "\n",
        "# Loss fonksiyonu ve optimizer kurduk bir sonraki adım eğitim döngüsü oluşturmak"
      ]
    },
    {
      "cell_type": "code",
      "execution_count": null,
      "metadata": {
        "colab": {
          "base_uri": "https://localhost:8080/"
        },
        "id": "4pcIR6iE_XXt",
        "outputId": "8a8bc3c5-b9a8-4bfa-fa0f-6d692125c2e7"
      },
      "outputs": [
        {
          "data": {
            "text/plain": [
              "L1Loss()"
            ]
          },
          "execution_count": 21,
          "metadata": {},
          "output_type": "execute_result"
        }
      ],
      "source": [
        "loss_fn"
      ]
    },
    {
      "cell_type": "markdown",
      "metadata": {
        "id": "Rj1G4kis_Ym7"
      },
      "source": [
        "### Building a training loop (and a testing loop) in PyTorch\n",
        "\n",
        "A couple of things we need in a training loop:\n",
        "\n",
        "0. Loop through the data\n",
        "\n",
        "1. Forward pass (this involes data moving through our model's forward() functions) to make predictions on te data - also called propagation\n",
        "\n",
        "2. Calculate the loss (compare forward pass predictions to ground truth labels)\n",
        "\n",
        "3. Optimizer zero grad\n",
        "\n",
        "4. Loss backward - move backwards through the network to calculate the gradients of easch of the parameters of uyr model with respect to the loss (**backpropagation**)\n",
        "\n",
        "5. Optimizer step - use the optimizer to adjust our model's parameters to try and improve the loss (**gradient descent**)\n",
        "********************************************************************************\n",
        "0. Veri üzerinde döngü oluştur.\n",
        "\n",
        "1. İleri geçiş (bu, modelimizin forward() fonksiyonları üzerinden verinin hareket etmesini içerir) veri üzerinde tahminler yapmak için - ayrıca yayılma olarak da adlandırılır.\n",
        "\n",
        "2. Kaybı hesapla (ileri geçiş tahminlerini gerçek etiketlerle karşılaştır).\n",
        "\n",
        "3. Optimizer gradyanlarını sıfırla.\n",
        "\n",
        "4. Kaybı geriye yay - ağı geriye doğru hareket ettirerek modelimizin parametrelerinin her birinin kayıpla ilgili olarak gradyanlarını hesapla (geriye yayılma).\n",
        "\n",
        "5. Optimizer adımı - modelimizin parametrelerini ayarlamak için optimizerı kullanarak kaybı iyileştirmeye çalışın (gradyan inişi)."
      ]
    },
    {
      "cell_type": "code",
      "execution_count": null,
      "metadata": {
        "colab": {
          "base_uri": "https://localhost:8080/"
        },
        "id": "U9j0zx7SlUib",
        "outputId": "8c68ee9c-2db8-45cd-9ecd-1ad6fca99bce"
      },
      "outputs": [
        {
          "name": "stdout",
          "output_type": "stream",
          "text": [
            "Loss:0.01299344189465046\n",
            "Epoch: 0 | MAE Train Loss: 0.01299344189465046 | MAE Test Loss: 0.029932236298918724 \n",
            "OrderedDict([('weights', tensor([0.6370])), ('bias', tensor([0.3262]))])\n",
            "Loss:0.012655806727707386\n",
            "OrderedDict([('weights', tensor([0.6388])), ('bias', tensor([0.3257]))])\n",
            "Loss:0.012306807562708855\n",
            "OrderedDict([('weights', tensor([0.6406])), ('bias', tensor([0.3252]))])\n",
            "Loss:0.011968233622610569\n",
            "OrderedDict([('weights', tensor([0.6422])), ('bias', tensor([0.3242]))])\n",
            "Loss:0.011621607467532158\n",
            "OrderedDict([('weights', tensor([0.6440])), ('bias', tensor([0.3237]))])\n",
            "Loss:0.011279222555458546\n",
            "OrderedDict([('weights', tensor([0.6455])), ('bias', tensor([0.3227]))])\n",
            "Loss:0.010936407372355461\n",
            "OrderedDict([('weights', tensor([0.6473])), ('bias', tensor([0.3222]))])\n",
            "Loss:0.010590208694338799\n",
            "OrderedDict([('weights', tensor([0.6489])), ('bias', tensor([0.3212]))])\n",
            "Loss:0.01025120448321104\n",
            "OrderedDict([('weights', tensor([0.6507])), ('bias', tensor([0.3207]))])\n",
            "Loss:0.00990220345556736\n",
            "OrderedDict([('weights', tensor([0.6525])), ('bias', tensor([0.3202]))])\n",
            "Loss:0.009565001353621483\n",
            "Epoch: 10 | MAE Train Loss: 0.009565001353621483 | MAE Test Loss: 0.02165968343615532 \n",
            "OrderedDict([('weights', tensor([0.6541])), ('bias', tensor([0.3192]))])\n",
            "Loss:0.009217002429068089\n",
            "OrderedDict([('weights', tensor([0.6559])), ('bias', tensor([0.3187]))])\n",
            "Loss:0.008875989355146885\n",
            "OrderedDict([('weights', tensor([0.6575])), ('bias', tensor([0.3177]))])\n",
            "Loss:0.008531799539923668\n",
            "OrderedDict([('weights', tensor([0.6593])), ('bias', tensor([0.3172]))])\n",
            "Loss:0.008186982944607735\n",
            "OrderedDict([('weights', tensor([0.6609])), ('bias', tensor([0.3162]))])\n",
            "Loss:0.007846592925488949\n",
            "OrderedDict([('weights', tensor([0.6627])), ('bias', tensor([0.3157]))])\n",
            "Loss:0.007497971411794424\n",
            "OrderedDict([('weights', tensor([0.6643])), ('bias', tensor([0.3147]))])\n",
            "Loss:0.0071613965556025505\n",
            "OrderedDict([('weights', tensor([0.6661])), ('bias', tensor([0.3142]))])\n",
            "Loss:0.006812399718910456\n",
            "OrderedDict([('weights', tensor([0.6679])), ('bias', tensor([0.3137]))])\n",
            "Loss:0.0064727626740932465\n",
            "OrderedDict([('weights', tensor([0.6695])), ('bias', tensor([0.3127]))])\n",
            "Loss:0.0061271958984434605\n",
            "Epoch: 20 | MAE Train Loss: 0.0061271958984434605 | MAE Test Loss: 0.013387149199843407 \n",
            "OrderedDict([('weights', tensor([0.6713])), ('bias', tensor([0.3122]))])\n",
            "Loss:0.00578375393524766\n",
            "OrderedDict([('weights', tensor([0.6729])), ('bias', tensor([0.3112]))])\n",
            "Loss:0.005441999528557062\n",
            "OrderedDict([('weights', tensor([0.6747])), ('bias', tensor([0.3107]))])\n",
            "Loss:0.0050947405397892\n",
            "OrderedDict([('weights', tensor([0.6763])), ('bias', tensor([0.3097]))])\n",
            "Loss:0.004756795708090067\n",
            "OrderedDict([('weights', tensor([0.6781])), ('bias', tensor([0.3092]))])\n",
            "Loss:0.004407793283462524\n",
            "OrderedDict([('weights', tensor([0.6799])), ('bias', tensor([0.3087]))])\n",
            "Loss:0.004069531802088022\n",
            "OrderedDict([('weights', tensor([0.6815])), ('bias', tensor([0.3077]))])\n",
            "Loss:0.0037225938867777586\n",
            "OrderedDict([('weights', tensor([0.6833])), ('bias', tensor([0.3072]))])\n",
            "Loss:0.0033805184066295624\n",
            "OrderedDict([('weights', tensor([0.6848])), ('bias', tensor([0.3062]))])\n",
            "Loss:0.003037391696125269\n",
            "OrderedDict([('weights', tensor([0.6866])), ('bias', tensor([0.3057]))])\n",
            "Loss:0.002691506640985608\n",
            "Epoch: 30 | MAE Train Loss: 0.002691506640985608 | MAE Test Loss: 0.005801492836326361 \n",
            "OrderedDict([('weights', tensor([0.6882])), ('bias', tensor([0.3047]))])\n",
            "Loss:0.002353911753743887\n",
            "OrderedDict([('weights', tensor([0.6902])), ('bias', tensor([0.3047]))])\n",
            "Loss:0.0020484128035604954\n",
            "OrderedDict([('weights', tensor([0.6914])), ('bias', tensor([0.3027]))])\n",
            "Loss:0.001795303076505661\n",
            "OrderedDict([('weights', tensor([0.6941])), ('bias', tensor([0.3047]))])\n",
            "Loss:0.0023608519695699215\n",
            "OrderedDict([('weights', tensor([0.6902])), ('bias', tensor([0.2947]))])\n",
            "Loss:0.00916013028472662\n",
            "OrderedDict([('weights', tensor([0.6941])), ('bias', tensor([0.3047]))])\n",
            "Loss:0.0023608519695699215\n",
            "OrderedDict([('weights', tensor([0.6902])), ('bias', tensor([0.2947]))])\n",
            "Loss:0.00916013028472662\n",
            "OrderedDict([('weights', tensor([0.6941])), ('bias', tensor([0.3047]))])\n",
            "Loss:0.0023608519695699215\n",
            "OrderedDict([('weights', tensor([0.6902])), ('bias', tensor([0.2947]))])\n",
            "Loss:0.00916013028472662\n",
            "OrderedDict([('weights', tensor([0.6941])), ('bias', tensor([0.3047]))])\n",
            "Loss:0.0023608519695699215\n",
            "Epoch: 40 | MAE Train Loss: 0.0023608519695699215 | MAE Test Loss: 0.014074939303100109 \n",
            "OrderedDict([('weights', tensor([0.6902])), ('bias', tensor([0.2947]))])\n",
            "Loss:0.00916013028472662\n",
            "OrderedDict([('weights', tensor([0.6941])), ('bias', tensor([0.3047]))])\n",
            "Loss:0.0023608519695699215\n",
            "OrderedDict([('weights', tensor([0.6902])), ('bias', tensor([0.2947]))])\n",
            "Loss:0.00916013028472662\n",
            "OrderedDict([('weights', tensor([0.6941])), ('bias', tensor([0.3047]))])\n",
            "Loss:0.0023608519695699215\n",
            "OrderedDict([('weights', tensor([0.6902])), ('bias', tensor([0.2947]))])\n",
            "Loss:0.00916013028472662\n",
            "OrderedDict([('weights', tensor([0.6941])), ('bias', tensor([0.3047]))])\n",
            "Loss:0.0023608519695699215\n",
            "OrderedDict([('weights', tensor([0.6902])), ('bias', tensor([0.2947]))])\n",
            "Loss:0.00916013028472662\n",
            "OrderedDict([('weights', tensor([0.6941])), ('bias', tensor([0.3047]))])\n",
            "Loss:0.0023608519695699215\n",
            "OrderedDict([('weights', tensor([0.6902])), ('bias', tensor([0.2947]))])\n",
            "Loss:0.00916013028472662\n",
            "OrderedDict([('weights', tensor([0.6941])), ('bias', tensor([0.3047]))])\n",
            "Loss:0.0023608519695699215\n",
            "Epoch: 50 | MAE Train Loss: 0.0023608519695699215 | MAE Test Loss: 0.014074939303100109 \n",
            "OrderedDict([('weights', tensor([0.6902])), ('bias', tensor([0.2947]))])\n",
            "Loss:0.00916013028472662\n",
            "OrderedDict([('weights', tensor([0.6941])), ('bias', tensor([0.3047]))])\n",
            "Loss:0.0023608519695699215\n",
            "OrderedDict([('weights', tensor([0.6902])), ('bias', tensor([0.2947]))])\n",
            "Loss:0.00916013028472662\n",
            "OrderedDict([('weights', tensor([0.6941])), ('bias', tensor([0.3047]))])\n",
            "Loss:0.0023608519695699215\n",
            "OrderedDict([('weights', tensor([0.6902])), ('bias', tensor([0.2947]))])\n",
            "Loss:0.00916013028472662\n",
            "OrderedDict([('weights', tensor([0.6941])), ('bias', tensor([0.3047]))])\n",
            "Loss:0.0023608519695699215\n",
            "OrderedDict([('weights', tensor([0.6902])), ('bias', tensor([0.2947]))])\n",
            "Loss:0.00916013028472662\n",
            "OrderedDict([('weights', tensor([0.6941])), ('bias', tensor([0.3047]))])\n",
            "Loss:0.0023608519695699215\n",
            "OrderedDict([('weights', tensor([0.6902])), ('bias', tensor([0.2947]))])\n",
            "Loss:0.00916013028472662\n",
            "OrderedDict([('weights', tensor([0.6941])), ('bias', tensor([0.3047]))])\n",
            "Loss:0.0023608519695699215\n",
            "Epoch: 60 | MAE Train Loss: 0.0023608519695699215 | MAE Test Loss: 0.014074939303100109 \n",
            "OrderedDict([('weights', tensor([0.6902])), ('bias', tensor([0.2947]))])\n",
            "Loss:0.00916013028472662\n",
            "OrderedDict([('weights', tensor([0.6941])), ('bias', tensor([0.3047]))])\n",
            "Loss:0.0023608519695699215\n",
            "OrderedDict([('weights', tensor([0.6902])), ('bias', tensor([0.2947]))])\n",
            "Loss:0.00916013028472662\n",
            "OrderedDict([('weights', tensor([0.6941])), ('bias', tensor([0.3047]))])\n",
            "Loss:0.0023608519695699215\n",
            "OrderedDict([('weights', tensor([0.6902])), ('bias', tensor([0.2947]))])\n",
            "Loss:0.00916013028472662\n",
            "OrderedDict([('weights', tensor([0.6941])), ('bias', tensor([0.3047]))])\n",
            "Loss:0.0023608519695699215\n",
            "OrderedDict([('weights', tensor([0.6902])), ('bias', tensor([0.2947]))])\n",
            "Loss:0.00916013028472662\n",
            "OrderedDict([('weights', tensor([0.6941])), ('bias', tensor([0.3047]))])\n",
            "Loss:0.0023608519695699215\n",
            "OrderedDict([('weights', tensor([0.6902])), ('bias', tensor([0.2947]))])\n",
            "Loss:0.00916013028472662\n",
            "OrderedDict([('weights', tensor([0.6941])), ('bias', tensor([0.3047]))])\n",
            "Loss:0.0023608519695699215\n",
            "Epoch: 70 | MAE Train Loss: 0.0023608519695699215 | MAE Test Loss: 0.014074939303100109 \n",
            "OrderedDict([('weights', tensor([0.6902])), ('bias', tensor([0.2947]))])\n",
            "Loss:0.00916013028472662\n",
            "OrderedDict([('weights', tensor([0.6941])), ('bias', tensor([0.3047]))])\n",
            "Loss:0.0023608519695699215\n",
            "OrderedDict([('weights', tensor([0.6902])), ('bias', tensor([0.2947]))])\n",
            "Loss:0.00916013028472662\n",
            "OrderedDict([('weights', tensor([0.6941])), ('bias', tensor([0.3047]))])\n",
            "Loss:0.0023608519695699215\n",
            "OrderedDict([('weights', tensor([0.6902])), ('bias', tensor([0.2947]))])\n",
            "Loss:0.00916013028472662\n",
            "OrderedDict([('weights', tensor([0.6941])), ('bias', tensor([0.3047]))])\n",
            "Loss:0.0023608519695699215\n",
            "OrderedDict([('weights', tensor([0.6902])), ('bias', tensor([0.2947]))])\n",
            "Loss:0.00916013028472662\n",
            "OrderedDict([('weights', tensor([0.6941])), ('bias', tensor([0.3047]))])\n",
            "Loss:0.0023608519695699215\n",
            "OrderedDict([('weights', tensor([0.6902])), ('bias', tensor([0.2947]))])\n",
            "Loss:0.00916013028472662\n",
            "OrderedDict([('weights', tensor([0.6941])), ('bias', tensor([0.3047]))])\n",
            "Loss:0.0023608519695699215\n",
            "Epoch: 80 | MAE Train Loss: 0.0023608519695699215 | MAE Test Loss: 0.014074939303100109 \n",
            "OrderedDict([('weights', tensor([0.6902])), ('bias', tensor([0.2947]))])\n",
            "Loss:0.00916013028472662\n",
            "OrderedDict([('weights', tensor([0.6941])), ('bias', tensor([0.3047]))])\n",
            "Loss:0.0023608519695699215\n",
            "OrderedDict([('weights', tensor([0.6902])), ('bias', tensor([0.2947]))])\n",
            "Loss:0.00916013028472662\n",
            "OrderedDict([('weights', tensor([0.6941])), ('bias', tensor([0.3047]))])\n",
            "Loss:0.0023608519695699215\n",
            "OrderedDict([('weights', tensor([0.6902])), ('bias', tensor([0.2947]))])\n",
            "Loss:0.00916013028472662\n",
            "OrderedDict([('weights', tensor([0.6941])), ('bias', tensor([0.3047]))])\n",
            "Loss:0.0023608519695699215\n",
            "OrderedDict([('weights', tensor([0.6902])), ('bias', tensor([0.2947]))])\n",
            "Loss:0.00916013028472662\n",
            "OrderedDict([('weights', tensor([0.6941])), ('bias', tensor([0.3047]))])\n",
            "Loss:0.0023608519695699215\n",
            "OrderedDict([('weights', tensor([0.6902])), ('bias', tensor([0.2947]))])\n",
            "Loss:0.00916013028472662\n",
            "OrderedDict([('weights', tensor([0.6941])), ('bias', tensor([0.3047]))])\n",
            "Loss:0.0023608519695699215\n",
            "Epoch: 90 | MAE Train Loss: 0.0023608519695699215 | MAE Test Loss: 0.014074939303100109 \n",
            "OrderedDict([('weights', tensor([0.6902])), ('bias', tensor([0.2947]))])\n",
            "Loss:0.00916013028472662\n",
            "OrderedDict([('weights', tensor([0.6941])), ('bias', tensor([0.3047]))])\n",
            "Loss:0.0023608519695699215\n",
            "OrderedDict([('weights', tensor([0.6902])), ('bias', tensor([0.2947]))])\n",
            "Loss:0.00916013028472662\n",
            "OrderedDict([('weights', tensor([0.6941])), ('bias', tensor([0.3047]))])\n",
            "Loss:0.0023608519695699215\n",
            "OrderedDict([('weights', tensor([0.6902])), ('bias', tensor([0.2947]))])\n",
            "Loss:0.00916013028472662\n",
            "OrderedDict([('weights', tensor([0.6941])), ('bias', tensor([0.3047]))])\n",
            "Loss:0.0023608519695699215\n",
            "OrderedDict([('weights', tensor([0.6902])), ('bias', tensor([0.2947]))])\n",
            "Loss:0.00916013028472662\n",
            "OrderedDict([('weights', tensor([0.6941])), ('bias', tensor([0.3047]))])\n",
            "Loss:0.0023608519695699215\n",
            "OrderedDict([('weights', tensor([0.6902])), ('bias', tensor([0.2947]))])\n",
            "Loss:0.00916013028472662\n",
            "OrderedDict([('weights', tensor([0.6941])), ('bias', tensor([0.3047]))])\n",
            "Loss:0.0023608519695699215\n",
            "Epoch: 100 | MAE Train Loss: 0.0023608519695699215 | MAE Test Loss: 0.014074939303100109 \n",
            "OrderedDict([('weights', tensor([0.6902])), ('bias', tensor([0.2947]))])\n",
            "Loss:0.00916013028472662\n",
            "OrderedDict([('weights', tensor([0.6941])), ('bias', tensor([0.3047]))])\n",
            "Loss:0.0023608519695699215\n",
            "OrderedDict([('weights', tensor([0.6902])), ('bias', tensor([0.2947]))])\n",
            "Loss:0.00916013028472662\n",
            "OrderedDict([('weights', tensor([0.6941])), ('bias', tensor([0.3047]))])\n",
            "Loss:0.0023608519695699215\n",
            "OrderedDict([('weights', tensor([0.6902])), ('bias', tensor([0.2947]))])\n",
            "Loss:0.00916013028472662\n",
            "OrderedDict([('weights', tensor([0.6941])), ('bias', tensor([0.3047]))])\n",
            "Loss:0.0023608519695699215\n",
            "OrderedDict([('weights', tensor([0.6902])), ('bias', tensor([0.2947]))])\n",
            "Loss:0.00916013028472662\n",
            "OrderedDict([('weights', tensor([0.6941])), ('bias', tensor([0.3047]))])\n",
            "Loss:0.0023608519695699215\n",
            "OrderedDict([('weights', tensor([0.6902])), ('bias', tensor([0.2947]))])\n",
            "Loss:0.00916013028472662\n",
            "OrderedDict([('weights', tensor([0.6941])), ('bias', tensor([0.3047]))])\n",
            "Loss:0.0023608519695699215\n",
            "Epoch: 110 | MAE Train Loss: 0.0023608519695699215 | MAE Test Loss: 0.014074939303100109 \n",
            "OrderedDict([('weights', tensor([0.6902])), ('bias', tensor([0.2947]))])\n",
            "Loss:0.00916013028472662\n",
            "OrderedDict([('weights', tensor([0.6941])), ('bias', tensor([0.3047]))])\n",
            "Loss:0.0023608519695699215\n",
            "OrderedDict([('weights', tensor([0.6902])), ('bias', tensor([0.2947]))])\n",
            "Loss:0.00916013028472662\n",
            "OrderedDict([('weights', tensor([0.6941])), ('bias', tensor([0.3047]))])\n",
            "Loss:0.0023608519695699215\n",
            "OrderedDict([('weights', tensor([0.6902])), ('bias', tensor([0.2947]))])\n",
            "Loss:0.00916013028472662\n",
            "OrderedDict([('weights', tensor([0.6941])), ('bias', tensor([0.3047]))])\n",
            "Loss:0.0023608519695699215\n",
            "OrderedDict([('weights', tensor([0.6902])), ('bias', tensor([0.2947]))])\n",
            "Loss:0.00916013028472662\n",
            "OrderedDict([('weights', tensor([0.6941])), ('bias', tensor([0.3047]))])\n",
            "Loss:0.0023608519695699215\n",
            "OrderedDict([('weights', tensor([0.6902])), ('bias', tensor([0.2947]))])\n",
            "Loss:0.00916013028472662\n",
            "OrderedDict([('weights', tensor([0.6941])), ('bias', tensor([0.3047]))])\n",
            "Loss:0.0023608519695699215\n",
            "Epoch: 120 | MAE Train Loss: 0.0023608519695699215 | MAE Test Loss: 0.014074939303100109 \n",
            "OrderedDict([('weights', tensor([0.6902])), ('bias', tensor([0.2947]))])\n",
            "Loss:0.00916013028472662\n",
            "OrderedDict([('weights', tensor([0.6941])), ('bias', tensor([0.3047]))])\n",
            "Loss:0.0023608519695699215\n",
            "OrderedDict([('weights', tensor([0.6902])), ('bias', tensor([0.2947]))])\n",
            "Loss:0.00916013028472662\n",
            "OrderedDict([('weights', tensor([0.6941])), ('bias', tensor([0.3047]))])\n",
            "Loss:0.0023608519695699215\n",
            "OrderedDict([('weights', tensor([0.6902])), ('bias', tensor([0.2947]))])\n",
            "Loss:0.00916013028472662\n",
            "OrderedDict([('weights', tensor([0.6941])), ('bias', tensor([0.3047]))])\n",
            "Loss:0.0023608519695699215\n",
            "OrderedDict([('weights', tensor([0.6902])), ('bias', tensor([0.2947]))])\n",
            "Loss:0.00916013028472662\n",
            "OrderedDict([('weights', tensor([0.6941])), ('bias', tensor([0.3047]))])\n",
            "Loss:0.0023608519695699215\n",
            "OrderedDict([('weights', tensor([0.6902])), ('bias', tensor([0.2947]))])\n",
            "Loss:0.00916013028472662\n",
            "OrderedDict([('weights', tensor([0.6941])), ('bias', tensor([0.3047]))])\n",
            "Loss:0.0023608519695699215\n",
            "Epoch: 130 | MAE Train Loss: 0.0023608519695699215 | MAE Test Loss: 0.014074939303100109 \n",
            "OrderedDict([('weights', tensor([0.6902])), ('bias', tensor([0.2947]))])\n",
            "Loss:0.00916013028472662\n",
            "OrderedDict([('weights', tensor([0.6941])), ('bias', tensor([0.3047]))])\n",
            "Loss:0.0023608519695699215\n",
            "OrderedDict([('weights', tensor([0.6902])), ('bias', tensor([0.2947]))])\n",
            "Loss:0.00916013028472662\n",
            "OrderedDict([('weights', tensor([0.6941])), ('bias', tensor([0.3047]))])\n",
            "Loss:0.0023608519695699215\n",
            "OrderedDict([('weights', tensor([0.6902])), ('bias', tensor([0.2947]))])\n",
            "Loss:0.00916013028472662\n",
            "OrderedDict([('weights', tensor([0.6941])), ('bias', tensor([0.3047]))])\n",
            "Loss:0.0023608519695699215\n",
            "OrderedDict([('weights', tensor([0.6902])), ('bias', tensor([0.2947]))])\n",
            "Loss:0.00916013028472662\n",
            "OrderedDict([('weights', tensor([0.6941])), ('bias', tensor([0.3047]))])\n",
            "Loss:0.0023608519695699215\n",
            "OrderedDict([('weights', tensor([0.6902])), ('bias', tensor([0.2947]))])\n",
            "Loss:0.00916013028472662\n",
            "OrderedDict([('weights', tensor([0.6941])), ('bias', tensor([0.3047]))])\n",
            "Loss:0.0023608519695699215\n",
            "Epoch: 140 | MAE Train Loss: 0.0023608519695699215 | MAE Test Loss: 0.014074939303100109 \n",
            "OrderedDict([('weights', tensor([0.6902])), ('bias', tensor([0.2947]))])\n",
            "Loss:0.00916013028472662\n",
            "OrderedDict([('weights', tensor([0.6941])), ('bias', tensor([0.3047]))])\n",
            "Loss:0.0023608519695699215\n",
            "OrderedDict([('weights', tensor([0.6902])), ('bias', tensor([0.2947]))])\n",
            "Loss:0.00916013028472662\n",
            "OrderedDict([('weights', tensor([0.6941])), ('bias', tensor([0.3047]))])\n",
            "Loss:0.0023608519695699215\n",
            "OrderedDict([('weights', tensor([0.6902])), ('bias', tensor([0.2947]))])\n",
            "Loss:0.00916013028472662\n",
            "OrderedDict([('weights', tensor([0.6941])), ('bias', tensor([0.3047]))])\n",
            "Loss:0.0023608519695699215\n",
            "OrderedDict([('weights', tensor([0.6902])), ('bias', tensor([0.2947]))])\n",
            "Loss:0.00916013028472662\n",
            "OrderedDict([('weights', tensor([0.6941])), ('bias', tensor([0.3047]))])\n",
            "Loss:0.0023608519695699215\n",
            "OrderedDict([('weights', tensor([0.6902])), ('bias', tensor([0.2947]))])\n",
            "Loss:0.00916013028472662\n",
            "OrderedDict([('weights', tensor([0.6941])), ('bias', tensor([0.3047]))])\n",
            "Loss:0.0023608519695699215\n",
            "Epoch: 150 | MAE Train Loss: 0.0023608519695699215 | MAE Test Loss: 0.014074939303100109 \n",
            "OrderedDict([('weights', tensor([0.6902])), ('bias', tensor([0.2947]))])\n",
            "Loss:0.00916013028472662\n",
            "OrderedDict([('weights', tensor([0.6941])), ('bias', tensor([0.3047]))])\n",
            "Loss:0.0023608519695699215\n",
            "OrderedDict([('weights', tensor([0.6902])), ('bias', tensor([0.2947]))])\n",
            "Loss:0.00916013028472662\n",
            "OrderedDict([('weights', tensor([0.6941])), ('bias', tensor([0.3047]))])\n",
            "Loss:0.0023608519695699215\n",
            "OrderedDict([('weights', tensor([0.6902])), ('bias', tensor([0.2947]))])\n",
            "Loss:0.00916013028472662\n",
            "OrderedDict([('weights', tensor([0.6941])), ('bias', tensor([0.3047]))])\n",
            "Loss:0.0023608519695699215\n",
            "OrderedDict([('weights', tensor([0.6902])), ('bias', tensor([0.2947]))])\n",
            "Loss:0.00916013028472662\n",
            "OrderedDict([('weights', tensor([0.6941])), ('bias', tensor([0.3047]))])\n",
            "Loss:0.0023608519695699215\n",
            "OrderedDict([('weights', tensor([0.6902])), ('bias', tensor([0.2947]))])\n",
            "Loss:0.00916013028472662\n",
            "OrderedDict([('weights', tensor([0.6941])), ('bias', tensor([0.3047]))])\n",
            "Loss:0.0023608519695699215\n",
            "Epoch: 160 | MAE Train Loss: 0.0023608519695699215 | MAE Test Loss: 0.014074939303100109 \n",
            "OrderedDict([('weights', tensor([0.6902])), ('bias', tensor([0.2947]))])\n",
            "Loss:0.00916013028472662\n",
            "OrderedDict([('weights', tensor([0.6941])), ('bias', tensor([0.3047]))])\n",
            "Loss:0.0023608519695699215\n",
            "OrderedDict([('weights', tensor([0.6902])), ('bias', tensor([0.2947]))])\n",
            "Loss:0.00916013028472662\n",
            "OrderedDict([('weights', tensor([0.6941])), ('bias', tensor([0.3047]))])\n",
            "Loss:0.0023608519695699215\n",
            "OrderedDict([('weights', tensor([0.6902])), ('bias', tensor([0.2947]))])\n",
            "Loss:0.00916013028472662\n",
            "OrderedDict([('weights', tensor([0.6941])), ('bias', tensor([0.3047]))])\n",
            "Loss:0.0023608519695699215\n",
            "OrderedDict([('weights', tensor([0.6902])), ('bias', tensor([0.2947]))])\n",
            "Loss:0.00916013028472662\n",
            "OrderedDict([('weights', tensor([0.6941])), ('bias', tensor([0.3047]))])\n",
            "Loss:0.0023608519695699215\n",
            "OrderedDict([('weights', tensor([0.6902])), ('bias', tensor([0.2947]))])\n",
            "Loss:0.00916013028472662\n",
            "OrderedDict([('weights', tensor([0.6941])), ('bias', tensor([0.3047]))])\n",
            "Loss:0.0023608519695699215\n",
            "Epoch: 170 | MAE Train Loss: 0.0023608519695699215 | MAE Test Loss: 0.014074939303100109 \n",
            "OrderedDict([('weights', tensor([0.6902])), ('bias', tensor([0.2947]))])\n",
            "Loss:0.00916013028472662\n",
            "OrderedDict([('weights', tensor([0.6941])), ('bias', tensor([0.3047]))])\n",
            "Loss:0.0023608519695699215\n",
            "OrderedDict([('weights', tensor([0.6902])), ('bias', tensor([0.2947]))])\n",
            "Loss:0.00916013028472662\n",
            "OrderedDict([('weights', tensor([0.6941])), ('bias', tensor([0.3047]))])\n",
            "Loss:0.0023608519695699215\n",
            "OrderedDict([('weights', tensor([0.6902])), ('bias', tensor([0.2947]))])\n",
            "Loss:0.00916013028472662\n",
            "OrderedDict([('weights', tensor([0.6941])), ('bias', tensor([0.3047]))])\n",
            "Loss:0.0023608519695699215\n",
            "OrderedDict([('weights', tensor([0.6902])), ('bias', tensor([0.2947]))])\n",
            "Loss:0.00916013028472662\n",
            "OrderedDict([('weights', tensor([0.6941])), ('bias', tensor([0.3047]))])\n",
            "Loss:0.0023608519695699215\n",
            "OrderedDict([('weights', tensor([0.6902])), ('bias', tensor([0.2947]))])\n",
            "Loss:0.00916013028472662\n",
            "OrderedDict([('weights', tensor([0.6941])), ('bias', tensor([0.3047]))])\n",
            "Loss:0.0023608519695699215\n",
            "Epoch: 180 | MAE Train Loss: 0.0023608519695699215 | MAE Test Loss: 0.014074939303100109 \n",
            "OrderedDict([('weights', tensor([0.6902])), ('bias', tensor([0.2947]))])\n",
            "Loss:0.00916013028472662\n",
            "OrderedDict([('weights', tensor([0.6941])), ('bias', tensor([0.3047]))])\n",
            "Loss:0.0023608519695699215\n",
            "OrderedDict([('weights', tensor([0.6902])), ('bias', tensor([0.2947]))])\n",
            "Loss:0.00916013028472662\n",
            "OrderedDict([('weights', tensor([0.6941])), ('bias', tensor([0.3047]))])\n",
            "Loss:0.0023608519695699215\n",
            "OrderedDict([('weights', tensor([0.6902])), ('bias', tensor([0.2947]))])\n",
            "Loss:0.00916013028472662\n",
            "OrderedDict([('weights', tensor([0.6941])), ('bias', tensor([0.3047]))])\n",
            "Loss:0.0023608519695699215\n",
            "OrderedDict([('weights', tensor([0.6902])), ('bias', tensor([0.2947]))])\n",
            "Loss:0.00916013028472662\n",
            "OrderedDict([('weights', tensor([0.6941])), ('bias', tensor([0.3047]))])\n",
            "Loss:0.0023608519695699215\n",
            "OrderedDict([('weights', tensor([0.6902])), ('bias', tensor([0.2947]))])\n",
            "Loss:0.00916013028472662\n",
            "OrderedDict([('weights', tensor([0.6941])), ('bias', tensor([0.3047]))])\n",
            "Loss:0.0023608519695699215\n",
            "Epoch: 190 | MAE Train Loss: 0.0023608519695699215 | MAE Test Loss: 0.014074939303100109 \n",
            "OrderedDict([('weights', tensor([0.6902])), ('bias', tensor([0.2947]))])\n",
            "Loss:0.00916013028472662\n",
            "OrderedDict([('weights', tensor([0.6941])), ('bias', tensor([0.3047]))])\n",
            "Loss:0.0023608519695699215\n",
            "OrderedDict([('weights', tensor([0.6902])), ('bias', tensor([0.2947]))])\n",
            "Loss:0.00916013028472662\n",
            "OrderedDict([('weights', tensor([0.6941])), ('bias', tensor([0.3047]))])\n",
            "Loss:0.0023608519695699215\n",
            "OrderedDict([('weights', tensor([0.6902])), ('bias', tensor([0.2947]))])\n",
            "Loss:0.00916013028472662\n",
            "OrderedDict([('weights', tensor([0.6941])), ('bias', tensor([0.3047]))])\n",
            "Loss:0.0023608519695699215\n",
            "OrderedDict([('weights', tensor([0.6902])), ('bias', tensor([0.2947]))])\n",
            "Loss:0.00916013028472662\n",
            "OrderedDict([('weights', tensor([0.6941])), ('bias', tensor([0.3047]))])\n",
            "Loss:0.0023608519695699215\n",
            "OrderedDict([('weights', tensor([0.6902])), ('bias', tensor([0.2947]))])\n",
            "Loss:0.00916013028472662\n",
            "OrderedDict([('weights', tensor([0.6941])), ('bias', tensor([0.3047]))])\n"
          ]
        }
      ],
      "source": [
        "# An epoch is one loop through the data (this is a hyperparameter because we've set it ourselves)\n",
        "epochs = 200\n",
        "train_loss_values = []\n",
        "test_loss_values = []\n",
        "epoch_count = []\n",
        "### Training\n",
        "# 0. Loop through the data\n",
        "for epoch in range(epochs):\n",
        "  # Set the model to training mode\n",
        "  model_0.train() # train mode in PyToch sets all parameters that require gradients to require gradients\n",
        "\n",
        "  # 1.Forward pass\n",
        "  y_pred = model_0(X_train)\n",
        "\n",
        "  # 2.Calculate the loss\n",
        "  loss = loss_fn(y_pred,y_train)\n",
        "  print(f\"Loss:{loss}\")\n",
        "\n",
        "  # 3. Optimizer zero grad\n",
        "  optimizer.zero_grad() # eğer sıfırlama yapmasaydık döngü 1 den 0 giderken sürekli artacaktı 1,2,3,....\n",
        "\n",
        "  # 4.Perform backpropagation on the loss with respect to the parameters of the model\n",
        "  loss.backward() # geri yayılım bu adımda olur\n",
        "\n",
        "  # 5.Step the optimizer (perform gradient descent)\n",
        "  optimizer.step() # varsayılan olarak optimize edicinin nasıdl değişeceğini belirtir döngü boyunca\n",
        "\n",
        "  # öreğin geri yayılım ağın girşine girdiler verilir ve çıktı bulunur bu çıktıdan modelin loss fonksiyonu hesplanır ve ağda geriye doğru işlem başlar\n",
        "  # ve loss fonksiyonunu azaltmak için parametrelerin güncelenmesi gerekir parametrelerin güncelendiği yer burasıdı\n",
        "\n",
        "  ### Testing   Put the model in evaluation mode\n",
        "  model_0.eval() # turns off gradient tracking\n",
        "\n",
        "  with torch.inference_mode(): # turns off gradient tracking & a couple more things behind the scenes burada gradyan_inişini kaptamamızın sebebi modelimiz yukarıda\n",
        "  # kalıpları öğrendi biz sadece burada test edeceğiz yani test ederken model bir şey öğrenmeyecek\n",
        "  # 1.Do the forward pass\n",
        "    test_pred = model_0(X_test)\n",
        "\n",
        "    # 2. Calculate the loss\n",
        "    test_loss = loss_fn(test_pred,y_test)\n",
        "  if epoch % 10 == 0:\n",
        "        epoch_count.append(epoch)\n",
        "        train_loss_values.append(loss.detach().numpy())\n",
        "        test_loss_values.append(test_loss.detach().numpy())\n",
        "        print(f\"Epoch: {epoch} | MAE Train Loss: {loss} | MAE Test Loss: {test_loss} \")\n",
        "\n",
        "  # Print out model state_dict()\n",
        "  print(model_0.state_dict())"
      ]
    },
    {
      "cell_type": "markdown",
      "metadata": {
        "id": "YPzKE6JfCA8s"
      },
      "source": [
        "1. Epoch (Dönem) Belirleme: epochs değişkeni, veri kümesinin kaç kez geçileceğini belirler. Burada, sadece bir dönem (epochs = 1) belirlenmiş.\n",
        "\n",
        "2. Model Eğitimi Döngüsü: Her bir epoch için aşağıdaki adımların gerçekleştirileceği bir döngü başlatılır.a. Modeli Eğitim Moduna Ayarlama: model_0.train() çağrısı, modelin eğitim moduna geçmesini sağlar. Eğitim modunda, modelin tüm parametreleri (ağırlıklar ve bias'lar gibi) için gradyanlar hesaplanır.b. İleri Yayılım (Forward Pass): Eğitim verileri (X_train) modelden geçirilir ve tahminler (y_pred) elde edilir.c. Kayıp Hesaplama: Gerçek etiketlerle (y_train) tahmin edilen etiketler (y_pred) arasındaki kayıp (hata) hesaplanır.d.\n",
        "\n",
        "3. Optimizatörün Gradyanları Sıfırlama: Her epoch başında, optimizatörün (örneğin, SGD veya Adam) gradyanları sıfırlanır\n",
        "\n",
        "4. Geri Yayılım (Backpropagation) ve Parametre Güncelleme: Hesaplanan kayıp değeri kullanılarak, modelin parametrelerinin gradyanı hesaplanır ve bu gradyanlar kullanılarak parametreler güncellenir (gradient iniş algoritması kullanılarak).f.\n",
        "\n",
        "5. Modeli Değerlendirme Moduna Ayarlama: model_0.eval() çağrısı, modelin değerlendirme moduna geçmesini sağlar. Bu modda, gradyan izleme kapatılır, bu da modelin eğitim için artık gradyanları izlemediği anlamına gelir. Bu, sadece modelin performansını değerlendirmek için kullanılır.\n",
        "Bu kod parçası, bir modelin eğitimi için tipik bir döngüyü temsil eder: veri üzerinden geç, gradyanları hesapla, gradyan inişi ile parametreleri güncelle. Bu süreç, modelin verilere uyum sağlamasını ve performansını arttırmasını sağlar."
      ]
    },
    {
      "cell_type": "code",
      "execution_count": null,
      "metadata": {
        "colab": {
          "base_uri": "https://localhost:8080/"
        },
        "id": "fTPzx7X0CPg8",
        "outputId": "8e77af04-b464-4220-c250-1871907a2a96"
      },
      "outputs": [
        {
          "data": {
            "text/plain": [
              "OrderedDict([('weights', tensor([0.6941])), ('bias', tensor([0.3047]))])"
            ]
          },
          "execution_count": 68,
          "metadata": {},
          "output_type": "execute_result"
        }
      ],
      "source": [
        "model_0.state_dict()"
      ]
    },
    {
      "cell_type": "code",
      "execution_count": null,
      "metadata": {
        "colab": {
          "base_uri": "https://localhost:8080/"
        },
        "id": "txmUi9RAXUZ7",
        "outputId": "80b78034-657f-4524-f8fa-9caa54be89bb"
      },
      "outputs": [
        {
          "data": {
            "text/plain": [
              "(0.7, 0.3)"
            ]
          },
          "execution_count": 69,
          "metadata": {},
          "output_type": "execute_result"
        }
      ],
      "source": [
        "weight,bias"
      ]
    },
    {
      "cell_type": "code",
      "execution_count": null,
      "metadata": {
        "id": "8DHTpAMlX2rh"
      },
      "outputs": [],
      "source": [
        "with torch.inference_mode():\n",
        "  y_preds_new = model_0(X_test)"
      ]
    },
    {
      "cell_type": "code",
      "execution_count": null,
      "metadata": {
        "colab": {
          "background_save": true,
          "base_uri": "https://localhost:8080/",
          "height": 599
        },
        "id": "db7IwIQEg_pG",
        "outputId": "c209f322-fe79-489d-892d-ba800962fc84"
      },
      "outputs": [
        {
          "data": {
            "image/png": "[encoded data removed]",
            "text/plain": [
              "<Figure size 1000x700 with 1 Axes>"
            ]
          },
          "metadata": {},
          "output_type": "display_data"
        }
      ],
      "source": [
        "plot_predictions(predictions=y_preds)"
      ]
    },
    {
      "cell_type": "code",
      "execution_count": null,
      "metadata": {
        "colab": {
          "background_save": true,
          "base_uri": "https://localhost:8080/",
          "height": 599
        },
        "id": "burHrHJxZb0X",
        "outputId": "49a74c87-e475-4b5c-e3f8-712f877dad34"
      },
      "outputs": [
        {
          "data": {
            "image/png": "[encoded data removed]",
            "text/plain": [
              "<Figure size 1000x700 with 1 Axes>"
            ]
          },
          "metadata": {},
          "output_type": "display_data"
        }
      ],
      "source": [
        "plot_predictions(predictions=y_preds_new)"
      ]
    },
    {
      "cell_type": "code",
      "execution_count": null,
      "metadata": {
        "colab": {
          "background_save": true
        },
        "id": "bAdOLmu1ZjoY",
        "outputId": "7078ba93-c2f6-463e-8a14-7d55089a09e5"
      },
      "outputs": [
        {
          "data": {
            "text/plain": [
              "([0,\n",
              "  10,\n",
              "  20,\n",
              "  30,\n",
              "  40,\n",
              "  50,\n",
              "  60,\n",
              "  70,\n",
              "  80,\n",
              "  90,\n",
              "  100,\n",
              "  110,\n",
              "  120,\n",
              "  130,\n",
              "  140,\n",
              "  150,\n",
              "  160,\n",
              "  170,\n",
              "  180,\n",
              "  190],\n",
              " [array(0.9795493, dtype=float32),\n",
              "  array(0.86433905, dtype=float32),\n",
              "  array(0.7491288, dtype=float32),\n",
              "  array(0.63690245, dtype=float32),\n",
              "  array(0.5466416, dtype=float32),\n",
              "  array(0.4765709, dtype=float32),\n",
              "  array(0.4232108, dtype=float32),\n",
              "  array(0.38305312, dtype=float32),\n",
              "  array(0.3527957, dtype=float32),\n",
              "  array(0.3295353, dtype=float32),\n",
              "  array(0.31238797, dtype=float32),\n",
              "  array(0.2990611, dtype=float32),\n",
              "  array(0.28865796, dtype=float32),\n",
              "  array(0.28027776, dtype=float32),\n",
              "  array(0.27366087, dtype=float32),\n",
              "  array(0.26816863, dtype=float32),\n",
              "  array(0.26312253, dtype=float32),\n",
              "  array(0.2588142, dtype=float32),\n",
              "  array(0.2548142, dtype=float32),\n",
              "  array(0.25081426, dtype=float32)],\n",
              " [array(1.877264, dtype=float32),\n",
              "  array(1.7425537, dtype=float32),\n",
              "  array(1.6078432, dtype=float32),\n",
              "  array(1.475133, dtype=float32),\n",
              "  array(1.3551986, dtype=float32),\n",
              "  array(1.2474856, dtype=float32),\n",
              "  array(1.1530272, dtype=float32),\n",
              "  array(1.0694218, dtype=float32),\n",
              "  array(0.9969986, dtype=float32),\n",
              "  array(0.9336327, dtype=float32),\n",
              "  array(0.8788953, dtype=float32),\n",
              "  array(0.8310645, dtype=float32),\n",
              "  array(0.78960437, dtype=float32),\n",
              "  array(0.753301, dtype=float32),\n",
              "  array(0.72220814, dtype=float32),\n",
              "  array(0.6963966, dtype=float32),\n",
              "  array(0.6719054, dtype=float32),\n",
              "  array(0.65276736, dtype=float32),\n",
              "  array(0.6349676, dtype=float32),\n",
              "  array(0.61716783, dtype=float32)])"
            ]
          },
          "execution_count": 105,
          "metadata": {},
          "output_type": "execute_result"
        }
      ],
      "source": [
        "epoch_count,train_loss_values,test_loss_values"
      ]
    },
    {
      "cell_type": "code",
      "execution_count": null,
      "metadata": {
        "colab": {
          "background_save": true,
          "base_uri": "https://localhost:8080/",
          "height": 472
        },
        "id": "A43wTl0WhS1k",
        "outputId": "1ebc6865-7b58-4217-97d4-41a63d38593e"
      },
      "outputs": [
        {
          "data": {
            "image/png": "[encoded data removed]",
            "text/plain": [
              "<Figure size 640x480 with 1 Axes>"
            ]
          },
          "metadata": {},
          "output_type": "display_data"
        }
      ],
      "source": [
        "# Plot the loss curves\n",
        "plt.plot(epoch_count,train_loss_values,label=\"Train loss\")\n",
        "plt.plot(epoch_count,test_loss_values,label=\"Test loss \")\n",
        "plt.title(\"Training and test loss curves\")\n",
        "plt.ylabel(\"Loss\")\n",
        "plt.xlabel(\"Epoch\")\n",
        "plt.legend();"
      ]
    },
    {
      "cell_type": "code",
      "execution_count": null,
      "metadata": {
        "colab": {
          "background_save": true
        },
        "id": "11cWFyZuhtwe"
      },
      "outputs": [],
      "source": []
    }
  ],
  "metadata": {
    "accelerator": "TPU",
    "colab": {
      "provenance": []
    },
    "kernelspec": {
      "display_name": "Python 3",
      "name": "python3"
    },
    "language_info": {
      "name": "python"
    }
  },
  "nbformat": 4,
  "nbformat_minor": 0
}